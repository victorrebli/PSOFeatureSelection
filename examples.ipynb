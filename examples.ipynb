{
 "cells": [
  {
   "cell_type": "code",
   "execution_count": 1,
   "metadata": {},
   "outputs": [],
   "source": [
    "from importlib import reload\n",
    "from scipy.io import arff\n",
    "import copy\n",
    "import principal\n",
    "from principal import PSOSelector\n",
    "import lightgbm as lgb\n",
    "import numpy as np\n",
    "import collections\n",
    "import pandas as pd\n",
    "import sys\n",
    "from sklearn.model_selection import train_test_split"
   ]
  },
  {
   "cell_type": "code",
   "execution_count": 2,
   "metadata": {},
   "outputs": [],
   "source": [
    "data = pd.read_csv('data/creditcard.csv')"
   ]
  },
  {
   "cell_type": "code",
   "execution_count": 3,
   "metadata": {},
   "outputs": [],
   "source": [
    "label = data.Class\n",
    "data = data.drop(['Time', 'Class'], axis=1)"
   ]
  },
  {
   "cell_type": "code",
   "execution_count": 4,
   "metadata": {},
   "outputs": [],
   "source": [
    "X_train, X_test, y_train, y_test = train_test_split(data,label, test_size=0.33, random_state=42) "
   ]
  },
  {
   "cell_type": "code",
   "execution_count": null,
   "metadata": {},
   "outputs": [],
   "source": [
    "lgb_params = {\n",
    "             'n_jobs': 5, 'two_round': True, 'is_unbalance': True,\n",
    "             'boosting_type': 'gbdt', 'learning_rate': 0.01, 'min_child_samples': 10,\n",
    "             'min_child_weight': 5, 'n_estimators':1000, 'num_leaves':21,\n",
    "             'max_depth': 6\n",
    "}"
   ]
  },
  {
   "cell_type": "code",
   "execution_count": null,
   "metadata": {},
   "outputs": [],
   "source": [
    "estimator = lgb.LGBMClassifier(**lgb_params, random_state = 10)"
   ]
  },
  {
   "cell_type": "code",
   "execution_count": null,
   "metadata": {},
   "outputs": [],
   "source": [
    "extras = {'eval_metric': 'auc',\n",
    "          'early_stopping_rounds': 100,\n",
    "         'verbose': False}"
   ]
  },
  {
   "cell_type": "code",
   "execution_count": null,
   "metadata": {},
   "outputs": [],
   "source": [
    "model = PSOSelector(estimator, w=0.7298, c1=1.49618, c2=1.49618,\n",
    "                    num_particles=15, max_iter=10, max_local_improvement=50,\n",
    "                    maximize_objective=True, initialization='uniform',\n",
    "                    fitness_method='type_2', cv = 3)"
   ]
  },
  {
   "cell_type": "code",
   "execution_count": null,
   "metadata": {},
   "outputs": [
    {
     "name": "stderr",
     "output_type": "stream",
     "text": [
      "[05/20 02:58:27] Score with all features - 0.934\n",
      "[05/20 02:58:58] Iteration: 1/10 \n",
      " , Best global metric: [0.951] \n",
      " , Index features_selected: [ 1  2 16 18 24 28] \n",
      " , Number of selected features: 6 \n",
      " , Columns selected: ['V2', 'V3', 'V17', 'V19', 'V25', 'Amount']\n",
      "[05/20 02:59:25] Iteration: 2/10 \n",
      " , Best global metric: [0.952] \n",
      " , Index features_selected: [ 1  2 16 18 25 28] \n",
      " , Number of selected features: 6 \n",
      " , Columns selected: ['V2', 'V3', 'V17', 'V19', 'V26', 'Amount']\n",
      "[05/20 02:59:53] Iteration: 3/10 \n",
      " , Best global metric: [0.952] \n",
      " , Index features_selected: [ 1  2 16 18 25 28] \n",
      " , Number of selected features: 6 \n",
      " , Columns selected: ['V2', 'V3', 'V17', 'V19', 'V26', 'Amount']\n",
      "[05/20 03:00:20] Iteration: 4/10 \n",
      " , Best global metric: [0.953] \n",
      " , Index features_selected: [ 1  2 16 18 20 25 28] \n",
      " , Number of selected features: 7 \n",
      " , Columns selected: ['V2', 'V3', 'V17', 'V19', 'V21', 'V26', 'Amount']\n",
      "[05/20 03:00:48] Iteration: 5/10 \n",
      " , Best global metric: [0.953] \n",
      " , Index features_selected: [ 1  2 16 18 20 25 28] \n",
      " , Number of selected features: 7 \n",
      " , Columns selected: ['V2', 'V3', 'V17', 'V19', 'V21', 'V26', 'Amount']\n",
      "[05/20 03:01:17] Iteration: 6/10 \n",
      " , Best global metric: [0.953] \n",
      " , Index features_selected: [ 1  2 16 18 20 25 28] \n",
      " , Number of selected features: 7 \n",
      " , Columns selected: ['V2', 'V3', 'V17', 'V19', 'V21', 'V26', 'Amount']\n",
      "[05/20 03:01:46] Iteration: 7/10 \n",
      " , Best global metric: [0.954] \n",
      " , Index features_selected: [ 1  2  7 16 18 20 25 27 28] \n",
      " , Number of selected features: 9 \n",
      " , Columns selected: ['V2', 'V3', 'V8', 'V17', 'V19', 'V21', 'V26', 'V28', 'Amount']\n"
     ]
    }
   ],
   "source": [
    "model.fit(X_train,y_train,**extras)"
   ]
  },
  {
   "cell_type": "code",
   "execution_count": null,
   "metadata": {},
   "outputs": [],
   "source": [
    "model.final_index, model.final_cols"
   ]
  }
 ],
 "metadata": {
  "kernelspec": {
   "display_name": "Python 3",
   "language": "python",
   "name": "python3"
  },
  "language_info": {
   "codemirror_mode": {
    "name": "ipython",
    "version": 3
   },
   "file_extension": ".py",
   "mimetype": "text/x-python",
   "name": "python",
   "nbconvert_exporter": "python",
   "pygments_lexer": "ipython3",
   "version": "3.7.1"
  }
 },
 "nbformat": 4,
 "nbformat_minor": 2
}
